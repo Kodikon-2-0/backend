{
 "cells": [
  {
   "cell_type": "code",
   "execution_count": 3,
   "metadata": {
    "collapsed": true
   },
   "outputs": [],
   "source": [
    "import csv\n",
    "import json"
   ]
  },
  {
   "cell_type": "code",
   "execution_count": 11,
   "outputs": [],
   "source": [
    "op = {}\n",
    "\n",
    "with open(\"allsubdistricts.csv\", \"r\") as fp:\n",
    "    reader = csv.reader(fp)\n",
    "    for row in reader:\n",
    "        if row[0] in op:\n",
    "            if row[1] in op[row[0]]:\n",
    "                op[row[0]][row[1]].append(row[2])\n",
    "            else:\n",
    "                op[row[0]][row[1]] = [row[2]]\n",
    "        else:\n",
    "            op[row[0]] = {}\n",
    "\n",
    "with open(\"data.json\", \"w\") as fp:\n",
    "    json.dump(op, fp)"
   ],
   "metadata": {
    "collapsed": false
   }
  },
  {
   "cell_type": "code",
   "execution_count": null,
   "outputs": [],
   "source": [],
   "metadata": {
    "collapsed": false
   }
  }
 ],
 "metadata": {
  "kernelspec": {
   "display_name": "Python 3",
   "language": "python",
   "name": "python3"
  },
  "language_info": {
   "codemirror_mode": {
    "name": "ipython",
    "version": 2
   },
   "file_extension": ".py",
   "mimetype": "text/x-python",
   "name": "python",
   "nbconvert_exporter": "python",
   "pygments_lexer": "ipython2",
   "version": "2.7.6"
  }
 },
 "nbformat": 4,
 "nbformat_minor": 0
}
